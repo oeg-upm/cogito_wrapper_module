{
 "cells": [
  {
   "cell_type": "code",
   "execution_count": 1,
   "metadata": {},
   "outputs": [],
   "source": [
    "from controller.Helio_Controller import Helio_Controller"
   ]
  },
  {
   "cell_type": "code",
   "execution_count": 6,
   "metadata": {},
   "outputs": [],
   "source": [
    "controller = Helio_Controller()\n",
    "controller.set_helio_config()\n",
    "controller.read_mappings()"
   ]
  },
  {
   "cell_type": "code",
   "execution_count": 7,
   "metadata": {},
   "outputs": [],
   "source": [
    "controller.create_task()"
   ]
  },
  {
   "cell_type": "code",
   "execution_count": 8,
   "metadata": {},
   "outputs": [
    {
     "name": "stdout",
     "output_type": "stream",
     "text": [
      "\n",
      "\n",
      "@prefix rdf: <http://www.w3.org/1999/02/22-rdf-syntax-ns#> .\n",
      "@prefix rdfs: <http://www.w3.org/2000/01/rdf-schema#> .\n",
      "@prefix data: <http://data.cogito.iot.linkeddata.es/resources/> .\n",
      "@prefix xsd: <http://www.w3.org/2001/XMLSchema#> .\n",
      "@prefix facility: <https://cogito.iot.linkeddata.es/def/facility#> .\n",
      "\n",
      "data:project/cogito:id:456\n",
      "    a facility:Project ;\n",
      "    facility:hasName \"test1\"^^<http://www.w3.org/2001/XMLSchema#string> ;\n",
      "    facility:hasDescription \"test description\"^^<http://www.w3.org/2001/XMLSchema#string> ;\n",
      "    facility:projectID \"cogito:id:456\"^^<http://www.w3.org/2001/XMLSchema#string> .\n"
     ]
    }
   ],
   "source": [
    "controller.retrieve_file()"
   ]
  },
  {
   "cell_type": "code",
   "execution_count": null,
   "metadata": {},
   "outputs": [],
   "source": []
  }
 ],
 "metadata": {
  "interpreter": {
   "hash": "31f2aee4e71d21fbe5cf8b01ff0e069b9275f58929596ceb00d14d90e3e16cd6"
  },
  "kernelspec": {
   "display_name": "Python 3.8.9 64-bit",
   "language": "python",
   "name": "python3"
  },
  "language_info": {
   "codemirror_mode": {
    "name": "ipython",
    "version": 3
   },
   "file_extension": ".py",
   "mimetype": "text/x-python",
   "name": "python",
   "nbconvert_exporter": "python",
   "pygments_lexer": "ipython3",
   "version": "3.8.9"
  },
  "orig_nbformat": 4
 },
 "nbformat": 4,
 "nbformat_minor": 2
}
